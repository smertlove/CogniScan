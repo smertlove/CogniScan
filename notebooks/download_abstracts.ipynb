{
 "cells": [
  {
   "cell_type": "code",
   "execution_count": 1,
   "id": "b1e1fc1e",
   "metadata": {},
   "outputs": [],
   "source": [
    "# !pip install biopython tqdm"
   ]
  },
  {
   "cell_type": "code",
   "execution_count": 2,
   "id": "a1694cde",
   "metadata": {},
   "outputs": [],
   "source": [
    "from Bio import Entrez\n",
    "import json\n",
    "from tqdm import tqdm\n",
    "from pathlib import Path\n",
    "import time\n",
    "import re"
   ]
  },
  {
   "cell_type": "code",
   "execution_count": 3,
   "id": "512b5897",
   "metadata": {},
   "outputs": [],
   "source": [
    "Entrez.email = ...  # <-- email сюда\n",
    "Entrez.tool = \"DownloadAbstracts\""
   ]
  },
  {
   "cell_type": "code",
   "execution_count": 5,
   "id": "ae4479de",
   "metadata": {},
   "outputs": [],
   "source": [
    "assert re.match(\n",
    "    r'^[a-zA-Z0-9_.+-]+@[a-zA-Z0-9-]+\\.[a-zA-Z0-9-.]+$',\n",
    "    Entrez.email\n",
    ")"
   ]
  },
  {
   "cell_type": "code",
   "execution_count": 6,
   "id": "3fd6b4f5",
   "metadata": {},
   "outputs": [],
   "source": [
    "DB = \"pubmed\"\n",
    "\n",
    "QUERY = \"\"\"\n",
    "(\n",
    "    mental disorders\n",
    "    OR\n",
    "    behavioural disorders\n",
    "    OR\n",
    "    \"Психические расстройства\"\n",
    "    OR\n",
    "    \"расстройства поведения\"\n",
    ")\n",
    "AND\n",
    "(\n",
    "    Russian[la]\n",
    "    OR\n",
    "    Russia[ad]\n",
    "    OR\n",
    "    \"Россия\"\n",
    "    OR\n",
    "    russian[lang]\n",
    ")\n",
    "\"\"\".strip()\n",
    "\n",
    "N_RESULTS = 2000  # <-- Количество статей на скачивание\n",
    "\n",
    "BATCH_SIZE = 100  # <-- Сколько скачивать за раз\n",
    "\n",
    "SORT = \"relevance\"\n",
    "\n",
    "DATADIR = Path.cwd().parent.resolve() / \"data\"\n",
    "if not DATADIR.exists():\n",
    "    DATADIR.mkdir()"
   ]
  },
  {
   "cell_type": "code",
   "execution_count": 7,
   "id": "94519b71",
   "metadata": {},
   "outputs": [],
   "source": [
    "with Entrez.esearch(\n",
    "    db=DB,\n",
    "    term=QUERY,\n",
    "    retmax=N_RESULTS,\n",
    "    sort=SORT\n",
    ") as handle:\n",
    "    search_results = Entrez.read(handle)"
   ]
  },
  {
   "cell_type": "code",
   "execution_count": 8,
   "id": "384593cc",
   "metadata": {},
   "outputs": [
    {
     "data": {
      "text/plain": [
       "2000"
      ]
     },
     "execution_count": 8,
     "metadata": {},
     "output_type": "execute_result"
    }
   ],
   "source": [
    "id_list = search_results[\"IdList\"]\n",
    "len(id_list)"
   ]
  },
  {
   "cell_type": "code",
   "execution_count": 9,
   "id": "a0fea04d",
   "metadata": {},
   "outputs": [],
   "source": [
    "abstracts = []"
   ]
  },
  {
   "cell_type": "code",
   "execution_count": 10,
   "id": "1a7bb2f4",
   "metadata": {},
   "outputs": [
    {
     "name": "stderr",
     "output_type": "stream",
     "text": [
      "100%|██████████| 20/20 [00:57<00:00,  2.87s/it]\n"
     ]
    }
   ],
   "source": [
    "for start in tqdm(range(0, len(id_list), BATCH_SIZE)):\n",
    "    end = min(\n",
    "        len(id_list),\n",
    "        start + BATCH_SIZE\n",
    "    )\n",
    "\n",
    "    with Entrez.efetch(\n",
    "        db=\"pubmed\",\n",
    "        id=id_list[start:end],\n",
    "        rettype=\"xml\",\n",
    "        retmode=\"xml\"\n",
    "    ) as handle:\n",
    "        articles = Entrez.read(handle)[\"PubmedArticle\"]\n",
    "\n",
    "    for article in articles:\n",
    "        pubmed_id = article[\"MedlineCitation\"][\"PMID\"]\n",
    "        article_data = article[\"MedlineCitation\"][\"Article\"]\n",
    "\n",
    "        try:\n",
    "            title = article['MedlineCitation'][\"Article\"]['VernacularTitle']\n",
    "        except Exception:\n",
    "            title = article_data.get(\"ArticleTitle\", \"avaliable 💔\")\n",
    "\n",
    "        other_abstract_list = article.get(\"MedlineCitation\", dict()).get(\"OtherAbstract\", list())\n",
    "        if other_abstract_list:\n",
    "            abstract_parts = other_abstract_list[0]['AbstractText']\n",
    "\n",
    "        ## С пропуском если нет русского абстракта ##\n",
    "        else:\n",
    "            continue\n",
    "\n",
    "        # ##  С загрузкой английских абстрактов  ##\n",
    "        # elif article_data.get(\"Abstract\", dict()).get(\"AbstractText\", list()):\n",
    "        #     abstract_parts = article_data[\"Abstract\"][\"AbstractText\"]\n",
    "        # else:\n",
    "        #     count_unavailable += 1\n",
    "        #     abstract_parts = \"No Abstract avaliable 💔\"\n",
    "\n",
    "        if isinstance(abstract_parts, list):\n",
    "            abstract = ' '.join([part for part in abstract_parts if part])\n",
    "        else:\n",
    "            abstract = abstract_parts\n",
    "\n",
    "        abstracts.append({\n",
    "            'pubmed_id': pubmed_id,\n",
    "            'title': title,\n",
    "            'abstract': abstract,\n",
    "        })\n",
    "\n",
    "\n",
    "    time.sleep(0.3)  # Нужна задержка чтобы не насиловать сервер"
   ]
  },
  {
   "cell_type": "code",
   "execution_count": 11,
   "id": "bdc751ef",
   "metadata": {},
   "outputs": [
    {
     "name": "stdout",
     "output_type": "stream",
     "text": [
      "159/2000 fetched.\n",
      "1841/2000 unavaliable.\n"
     ]
    }
   ],
   "source": [
    "tot = len(abstracts)\n",
    "print(f\"{tot}/{N_RESULTS} fetched.\")\n",
    "print(f\"{N_RESULTS - tot}/{N_RESULTS} unavaliable.\")"
   ]
  },
  {
   "cell_type": "code",
   "execution_count": 12,
   "id": "bba36f8f",
   "metadata": {},
   "outputs": [],
   "source": [
    "with open(DATADIR / \"abstracts.json\", \"w\", encoding=\"utf-8\") as file:\n",
    "    json.dump(abstracts, file, indent=4, ensure_ascii=False)"
   ]
  },
  {
   "cell_type": "code",
   "execution_count": null,
   "id": "3c6bf25c",
   "metadata": {},
   "outputs": [],
   "source": []
  }
 ],
 "metadata": {
  "kernelspec": {
   "display_name": "venv",
   "language": "python",
   "name": "python3"
  },
  "language_info": {
   "codemirror_mode": {
    "name": "ipython",
    "version": 3
   },
   "file_extension": ".py",
   "mimetype": "text/x-python",
   "name": "python",
   "nbconvert_exporter": "python",
   "pygments_lexer": "ipython3",
   "version": "3.10.12"
  }
 },
 "nbformat": 4,
 "nbformat_minor": 5
}
