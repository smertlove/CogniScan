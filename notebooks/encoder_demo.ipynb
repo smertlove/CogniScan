{
 "cells": [
  {
   "cell_type": "code",
   "execution_count": 1,
   "id": "bdbf2741",
   "metadata": {},
   "outputs": [],
   "source": [
    "import pathlib\n",
    "import sys\n",
    "\n",
    "PACKAGE_PATH = pathlib.Path.cwd().parent.resolve()\n",
    "assert PACKAGE_PATH.exists()\n",
    "\n",
    "sys.path.append(str(PACKAGE_PATH))"
   ]
  },
  {
   "cell_type": "code",
   "execution_count": 2,
   "id": "6f3a311a",
   "metadata": {},
   "outputs": [
    {
     "name": "stderr",
     "output_type": "stream",
     "text": [
      "/home/smertlove/sandbox/hse/anthologies/CogniScan/venv/lib/python3.10/site-packages/tqdm/auto.py:21: TqdmWarning: IProgress not found. Please update jupyter and ipywidgets. See https://ipywidgets.readthedocs.io/en/stable/user_install.html\n",
      "  from .autonotebook import tqdm as notebook_tqdm\n"
     ]
    }
   ],
   "source": [
    "from CogniScan.encoder import Encoder"
   ]
  },
  {
   "cell_type": "code",
   "execution_count": 3,
   "id": "cfc781c4",
   "metadata": {},
   "outputs": [
    {
     "name": "stderr",
     "output_type": "stream",
     "text": [
      "Some weights of RobertaModel were not initialized from the model checkpoint at alexyalunin/RuBioRoBERTa and are newly initialized: ['pooler.dense.bias', 'pooler.dense.weight']\n",
      "You should probably TRAIN this model on a down-stream task to be able to use it for predictions and inference.\n"
     ]
    }
   ],
   "source": [
    "encoder = Encoder()"
   ]
  },
  {
   "cell_type": "code",
   "execution_count": 26,
   "id": "9bc150ba",
   "metadata": {},
   "outputs": [],
   "source": [
    "embeddings = encoder.encode([\n",
    "    \"Horses are fun!\",\n",
    "    \"I love going to the hospital!\",\n",
    "    \"I love going to my doctor!\",\n",
    "    \"I hate going to my doctor!\",\n",
    "])"
   ]
  },
  {
   "cell_type": "code",
   "execution_count": 27,
   "id": "ad60fc03",
   "metadata": {},
   "outputs": [
    {
     "data": {
      "text/plain": [
       "array([[ 0.16925173,  1.2051221 , -0.43685976, ..., -0.20877087,\n",
       "         0.03079396,  0.49183008],\n",
       "       [ 0.23805778,  1.2793692 , -0.51279074, ..., -0.11472355,\n",
       "         0.71613663, -0.02391078],\n",
       "       [ 0.1482452 ,  1.1478776 , -0.10031336, ..., -0.29164386,\n",
       "         0.09220656, -0.5118469 ],\n",
       "       [ 0.28390512,  1.2886137 , -0.16399297, ..., -0.17128518,\n",
       "         0.16509838, -0.33210093]], shape=(4, 1024), dtype=float32)"
      ]
     },
     "execution_count": 27,
     "metadata": {},
     "output_type": "execute_result"
    }
   ],
   "source": [
    "embeddings"
   ]
  },
  {
   "cell_type": "code",
   "execution_count": 28,
   "id": "5c36b576",
   "metadata": {},
   "outputs": [],
   "source": [
    "from numpy import dot\n",
    "from numpy.linalg import norm\n",
    "\n",
    "def custom_cossim(a, b):\n",
    "    return dot(a, b)/(norm(a)*norm(b))"
   ]
  },
  {
   "cell_type": "code",
   "execution_count": 29,
   "id": "0bba4b0b",
   "metadata": {},
   "outputs": [
    {
     "data": {
      "text/plain": [
       "np.float32(0.81072474)"
      ]
     },
     "execution_count": 29,
     "metadata": {},
     "output_type": "execute_result"
    }
   ],
   "source": [
    "custom_cossim(embeddings[0], embeddings[1])"
   ]
  },
  {
   "cell_type": "code",
   "execution_count": 30,
   "id": "07781d6d",
   "metadata": {},
   "outputs": [
    {
     "data": {
      "text/plain": [
       "np.float32(0.87385243)"
      ]
     },
     "execution_count": 30,
     "metadata": {},
     "output_type": "execute_result"
    }
   ],
   "source": [
    "custom_cossim(embeddings[1], embeddings[2])"
   ]
  },
  {
   "cell_type": "code",
   "execution_count": 31,
   "id": "dfa9ce46",
   "metadata": {},
   "outputs": [
    {
     "data": {
      "text/plain": [
       "np.float32(0.98477787)"
      ]
     },
     "execution_count": 31,
     "metadata": {},
     "output_type": "execute_result"
    }
   ],
   "source": [
    "custom_cossim(embeddings[2], embeddings[3])"
   ]
  },
  {
   "cell_type": "code",
   "execution_count": null,
   "id": "8136beb3",
   "metadata": {},
   "outputs": [],
   "source": []
  }
 ],
 "metadata": {
  "kernelspec": {
   "display_name": "venv",
   "language": "python",
   "name": "python3"
  },
  "language_info": {
   "codemirror_mode": {
    "name": "ipython",
    "version": 3
   },
   "file_extension": ".py",
   "mimetype": "text/x-python",
   "name": "python",
   "nbconvert_exporter": "python",
   "pygments_lexer": "ipython3",
   "version": "3.10.12"
  }
 },
 "nbformat": 4,
 "nbformat_minor": 5
}
